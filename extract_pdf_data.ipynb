{
 "cells": [
  {
   "cell_type": "code",
   "execution_count": 1,
   "id": "59ba39dd-4756-4d75-a337-4254906bbbd3",
   "metadata": {},
   "outputs": [],
   "source": [
    "from pdf2image import convert_from_path\n",
    "from PyPDF2 import PdfFileReader\n",
    "import cv2\n",
    "import pytesseract\n",
    "import os"
   ]
  },
  {
   "cell_type": "code",
   "execution_count": 2,
   "id": "1a807225-7b5c-4b2c-8610-915240252c44",
   "metadata": {},
   "outputs": [],
   "source": [
    "pytesseract.pytesseract.tesseract_cmd = r'C:\\Program Files\\Tesseract-OCR\\tesseract.exe'"
   ]
  },
  {
   "cell_type": "code",
   "execution_count": 3,
   "id": "06b0b8b7-743a-46cf-b263-e60faa6979a9",
   "metadata": {},
   "outputs": [],
   "source": [
    "# code for converting pdf to images and identifying tables from the last 2 pages to save into the target csv file\n",
    "for filename in os.listdir(\"pdf_tables\"):\n",
    "    file = \"pdf_tables/\" + filename\n",
    "    pdf_len = PdfFileReader(open(file,'rb')).getNumPages()\n",
    "    # identifying two last pages in every pdf file\n",
    "    pages = convert_from_path(file, 500, first_page = pdf_len - 1, \n",
    "                              poppler_path = r\"C:\\Users\\mspya\\Desktop\\MSBA\\Hackathon\\poppler-22.01.0\\Library\\bin\")\n",
    "    k = 1\n",
    "    for page in pages:\n",
    "        page.save('aux.jpg', 'JPEG')\n",
    "        img_cv = cv2.imread('aux.jpg')\n",
    "        # rotating the image of the page before last\n",
    "        if k == 1:\n",
    "            img_cv = cv2.rotate(img_cv, cv2.cv2.ROTATE_90_CLOCKWISE)\n",
    "        # resizing the image\n",
    "        img_resized = cv2.resize(img_cv,\n",
    "                         (int(img_cv.shape[1] + (img_cv.shape[1] * .1)),\n",
    "                          int(img_cv.shape[0] + (img_cv.shape[0] * .25))),\n",
    "                         interpolation=cv2.INTER_AREA)\n",
    "        # changing the color scheme to grey scale\n",
    "        img_rgb = cv2.cvtColor(img_resized, cv2.COLOR_BGR2GRAY)\n",
    "        # reading the data from the image into text file\n",
    "        data = pytesseract.image_to_string(img_rgb)\n",
    "        # cleaning the data\n",
    "        try:\n",
    "            i1 = data.index(\"TOTAL\")\n",
    "            i2 = data.index(\"As reported to\")\n",
    "            output = data[i1:i2]\n",
    "            for s in [\"°\", \"?\", \"®\", \"*\", '\"', \"(\", \")\", \",\"]:\n",
    "                output = output.replace(s, \"\")\n",
    "            text = output.split(\"\\n\")\n",
    "            i = 0\n",
    "            while i < len(text):\n",
    "                while True:\n",
    "                    ind = text[i].find(\" \")\n",
    "                    if ind == len(text[i])-1:\n",
    "                        break\n",
    "                    if text[i].find(\" \") == -1:\n",
    "                        break\n",
    "                    if not text[i][ind+1].isdecimal():\n",
    "                        text[i] = text[i].replace(\" \", \"\", 1)\n",
    "                    else:\n",
    "                        break\n",
    "                i += 1\n",
    "            text = [el for el in text if el != \"\"]\n",
    "            output = \"\\n\".join(text)\n",
    "            output = output.replace(\" \", \",\")\n",
    "            # saving the output as csv file\n",
    "            output_file = \"csv_tables/\" + filename.replace(\".pdf\", \"\") + '_' + str(k) + '.csv'\n",
    "            with open(output_file, 'w') as f:\n",
    "                f.write(output)\n",
    "            k += 1\n",
    "        except:\n",
    "            pass"
   ]
  }
 ],
 "metadata": {
  "kernelspec": {
   "display_name": "Python 3 (ipykernel)",
   "language": "python",
   "name": "python3"
  },
  "language_info": {
   "codemirror_mode": {
    "name": "ipython",
    "version": 3
   },
   "file_extension": ".py",
   "mimetype": "text/x-python",
   "name": "python",
   "nbconvert_exporter": "python",
   "pygments_lexer": "ipython3",
   "version": "3.9.7"
  }
 },
 "nbformat": 4,
 "nbformat_minor": 5
}
